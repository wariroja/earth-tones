{
 "cells": [
  {
   "cell_type": "markdown",
   "metadata": {},
   "source": [
    "## Use the model to predict what type of song to generate"
   ]
  },
  {
   "cell_type": "markdown",
   "metadata": {},
   "source": [
    "#### Things we want to request from the user [model input]:\n",
    "1) Current mood (rate from 1 (very bad) to 5 (very good)):’mood'\n",
    "2) mood after listening to song. Choose from the following: 'amazement', 'solemnity', 'tenderness', 'nostalgia', 'calmness', 'power', 'joyful_activation', 'tension', 'sadness'\n",
    "3) Age of user:’ age'\n",
    "\n",
    "##### Things to extract from user listening history:\n",
    "4) 'avg_bpm_listened'\n",
    "5) 'most_listened_genre'\n",
    "6) 'listening_frequency' choose from (hourly, daily, weekly, monthly)\n",
    "\n",
    "#### Generate a song based on [model output]: \n",
    "1) 'Genre' \n",
    "2) 'Key' \n",
    "3) 'BPM'"
   ]
  },
  {
   "cell_type": "code",
   "execution_count": 1,
   "metadata": {},
   "outputs": [],
   "source": [
    "import torch\n",
    "import torch.nn as nn\n",
    "import torch.nn.functional as F\n",
    "import pandas as pd\n",
    "import random\n",
    "import numpy as np"
   ]
  },
  {
   "cell_type": "code",
   "execution_count": 3,
   "metadata": {},
   "outputs": [],
   "source": [
    "class NeuralNetwork(nn.Module):\n",
    "    def __init__(self, input_size, output_size):\n",
    "        super(NeuralNetwork, self).__init__()\n",
    "        self.fc1 = nn.Linear(input_size, 128)  \n",
    "        self.fc2 = nn.Linear(128, 64)          \n",
    "        self.fc3 = nn.Linear(64, 32)           \n",
    "        self.fc4 = nn.Linear(32, output_size)  \n",
    "\n",
    "    def forward(self, x):\n",
    "        x = F.relu(self.fc1(x))  \n",
    "        x = F.relu(self.fc2(x))  \n",
    "        x = F.relu(self.fc3(x))  \n",
    "        x = self.fc4(x)          \n",
    "        return x"
   ]
  },
  {
   "cell_type": "code",
   "execution_count": 4,
   "metadata": {},
   "outputs": [
    {
     "data": {
      "text/plain": [
       "NeuralNetwork(\n",
       "  (fc1): Linear(in_features=22, out_features=128, bias=True)\n",
       "  (fc2): Linear(in_features=128, out_features=64, bias=True)\n",
       "  (fc3): Linear(in_features=64, out_features=32, bias=True)\n",
       "  (fc4): Linear(in_features=32, out_features=29, bias=True)\n",
       ")"
      ]
     },
     "execution_count": 4,
     "metadata": {},
     "output_type": "execute_result"
    }
   ],
   "source": [
    "model = torch.load('my_model.pth')\n",
    "model.eval()"
   ]
  },
  {
   "cell_type": "code",
   "execution_count": 22,
   "metadata": {},
   "outputs": [],
   "source": [
    "inputs = pd.read_csv('inputs.csv')\n",
    "outputs = pd.read_csv('targets.csv')"
   ]
  },
  {
   "cell_type": "code",
   "execution_count": 90,
   "metadata": {},
   "outputs": [],
   "source": [
    "random_row = inputs.sample(n=1)\n",
    "random_output = outputs.sample(n=1)\n",
    "input_tensor = torch.tensor(random_row.values, dtype=torch.float32)"
   ]
  },
  {
   "cell_type": "code",
   "execution_count": 91,
   "metadata": {},
   "outputs": [
    {
     "data": {
      "text/plain": [
       "Index(['amazement', 'solemnity', 'tenderness', 'nostalgia', 'calmness',\n",
       "       'power', 'joyful_activation', 'tension', 'sadness', 'mood', 'age',\n",
       "       'avg_bpm_listened', 'most_listened_genre_Classical',\n",
       "       'most_listened_genre_Electronic', 'most_listened_genre_Hip-hop',\n",
       "       'most_listened_genre_Jazz', 'most_listened_genre_Pop',\n",
       "       'most_listened_genre_Rock', 'listening_frequency_daily',\n",
       "       'listening_frequency_hourly', 'listening_frequency_monthly',\n",
       "       'listening_frequency_weekly'],\n",
       "      dtype='object')"
      ]
     },
     "execution_count": 91,
     "metadata": {},
     "output_type": "execute_result"
    }
   ],
   "source": [
    "random_row.columns"
   ]
  },
  {
   "cell_type": "code",
   "execution_count": 92,
   "metadata": {},
   "outputs": [],
   "source": [
    "# Pass the fake input tensor through the model to get predictions\n",
    "with torch.no_grad():\n",
    "    predictions = model(input_tensor)\n",
    "\n",
    "# Convert predictions to a readable format \n",
    "predicted_values = predictions.numpy()"
   ]
  },
  {
   "cell_type": "code",
   "execution_count": 83,
   "metadata": {},
   "outputs": [],
   "source": [
    "def decode_predictions(predictions, target_vector_encoded):\n",
    "    \"\"\"\n",
    "    Decodes the output of the neural network model from one-hot encoded arrays to a readable dictionary format.\n",
    "\n",
    "    :param predictions: Numpy array of model predictions.\n",
    "    :param input_vector_encoded: DataFrame of the encoded input features.\n",
    "    :param target_vector_encoded: DataFrame of the encoded target features.\n",
    "    :return: A dictionary containing readable model predictions.\n",
    "    \"\"\"\n",
    "    # Initialize a dictionary to hold the decoded results\n",
    "    decoded_results = {\n",
    "        'Genre': '',\n",
    "        'Key': '',\n",
    "        'BPM': 0\n",
    "    }\n",
    "\n",
    "    # Get the list of encoded columns for Genre and Key\n",
    "    genre_cols = [col for col in target_vector_encoded if col.startswith('Genre_')]\n",
    "    key_cols = [col for col in target_vector_encoded if col.startswith('Key_')]\n",
    "\n",
    "    # Extract the portions of the prediction associated with Genre and Key\n",
    "    genre_predictions = predictions[0, [target_vector_encoded.columns.get_loc(col) for col in genre_cols]]\n",
    "    key_predictions = predictions[0, [target_vector_encoded.columns.get_loc(col) for col in key_cols]]\n",
    "\n",
    "    # Identify the index of the highest probability in each category, which represents the model's prediction\n",
    "    predicted_genre = genre_cols[np.argmax(genre_predictions)].split('_', 1)[1]  # Extracting the actual genre\n",
    "    predicted_key = key_cols[np.argmax(key_predictions)].split('_', 1)[1]  # Extracting the actual key\n",
    "\n",
    "    # Since BPM is a numerical value, directly use the corresponding prediction\n",
    "    # Assuming the BPM is at a fixed index in your output layer - adjust if different\n",
    "    bpm_index = target_vector_encoded.columns.get_loc('BPM')\n",
    "    predicted_bpm = predictions[0, bpm_index]\n",
    "\n",
    "    # Update the results dictionary\n",
    "    decoded_results['Genre'] = predicted_genre\n",
    "    decoded_results['Key'] = predicted_key\n",
    "    decoded_results['BPM'] = int(round(predicted_bpm)) \n",
    "\n",
    "    return decoded_results"
   ]
  },
  {
   "cell_type": "code",
   "execution_count": 89,
   "metadata": {},
   "outputs": [
    {
     "data": {
      "text/plain": [
       "{'Genre': 'classical', 'Key': 'G Major', 'BPM': 121}"
      ]
     },
     "execution_count": 89,
     "metadata": {},
     "output_type": "execute_result"
    }
   ],
   "source": [
    "decode_predictions(predicted_values, random_output)"
   ]
  },
  {
   "cell_type": "code",
   "execution_count": null,
   "metadata": {},
   "outputs": [],
   "source": []
  }
 ],
 "metadata": {
  "kernelspec": {
   "display_name": "Python 3",
   "language": "python",
   "name": "python3"
  },
  "language_info": {
   "codemirror_mode": {
    "name": "ipython",
    "version": 3
   },
   "file_extension": ".py",
   "mimetype": "text/x-python",
   "name": "python",
   "nbconvert_exporter": "python",
   "pygments_lexer": "ipython3",
   "version": "3.10.2"
  }
 },
 "nbformat": 4,
 "nbformat_minor": 2
}
